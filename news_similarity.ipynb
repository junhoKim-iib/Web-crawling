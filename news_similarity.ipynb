{
 "cells": [
  {
   "cell_type": "code",
   "execution_count": 94,
   "id": "08e977d4",
   "metadata": {},
   "outputs": [],
   "source": [
    "import pandas as pd\n",
    "from konlpy.tag import *\n",
    "from gensim.models.doc2vec import TaggedDocument\n",
    "from tqdm import tqdm"
   ]
  },
  {
   "cell_type": "code",
   "execution_count": 96,
   "id": "60c8ec17",
   "metadata": {},
   "outputs": [],
   "source": [
    "df = pd.read_excel(\"Naver_news.xlsx\")"
   ]
  },
  {
   "cell_type": "code",
   "execution_count": 97,
   "id": "68917295",
   "metadata": {
    "scrolled": true
   },
   "outputs": [
    {
     "data": {
      "text/html": [
       "<div>\n",
       "<style scoped>\n",
       "    .dataframe tbody tr th:only-of-type {\n",
       "        vertical-align: middle;\n",
       "    }\n",
       "\n",
       "    .dataframe tbody tr th {\n",
       "        vertical-align: top;\n",
       "    }\n",
       "\n",
       "    .dataframe thead th {\n",
       "        text-align: right;\n",
       "    }\n",
       "</style>\n",
       "<table border=\"1\" class=\"dataframe\">\n",
       "  <thead>\n",
       "    <tr style=\"text-align: right;\">\n",
       "      <th></th>\n",
       "      <th>title</th>\n",
       "      <th>link</th>\n",
       "      <th>contents</th>\n",
       "      <th>Token</th>\n",
       "    </tr>\n",
       "  </thead>\n",
       "  <tbody>\n",
       "    <tr>\n",
       "      <th>0</th>\n",
       "      <td>탐색전은 끝났다…거칠어진 130분, 아킬레스건 파고든 李·尹</td>\n",
       "      <td>https://news.naver.com/main/read.naver?mode=LP...</td>\n",
       "      <td>\\n\\n\\n\\n\\n'공수교대' 네거티브 난타전…李·尹, '단일화 파트너' 安에는 '...</td>\n",
       "      <td>['수교', '네거티브', '난타', '일화', '파트너', '손짓', '전방', ...</td>\n",
       "    </tr>\n",
       "    <tr>\n",
       "      <th>1</th>\n",
       "      <td>李-尹 난타전…\"경제행정 달인 맞나\" \"검사가 왜 이러나\"</td>\n",
       "      <td>https://news.naver.com/main/read.naver?mode=LP...</td>\n",
       "      <td>\\n\\n\\n\\n\\n2차 TV토론…백현동·주가조작 정면충돌에 배우자 이슈까지 등장 安...</td>\n",
       "      <td>['차', '토론', '백현동', '주가조작', '정면', '충돌', '배우자', ...</td>\n",
       "    </tr>\n",
       "    <tr>\n",
       "      <th>2</th>\n",
       "      <td>노동이사제…安 \"귀족노조\" 尹 \"도덕적 해이 제재\" 沈 \"확대\"</td>\n",
       "      <td>https://news.naver.com/main/read.naver?mode=LP...</td>\n",
       "      <td>\\n\\n\\n\\n\\n尹 \"한수원에 노동이사 있었다면 원전 경제성 조작 없었을 것\"安 ...</td>\n",
       "      <td>['한수원', '노동', '이사', '원전', '경제성', '조작', '소신', '...</td>\n",
       "    </tr>\n",
       "    <tr>\n",
       "      <th>3</th>\n",
       "      <td>4인 후보 '코로나 해결 적임' 부각…\"손실보상 강화\" 한목소리</td>\n",
       "      <td>https://news.naver.com/main/read.naver?mode=LP...</td>\n",
       "      <td>\\n\\n\\n\\n\\n\\t\\n\\t(서울=연합뉴스) 김연정 강민경 기자 = 더불어민주당 ...</td>\n",
       "      <td>['서울', '연합뉴스', '김연정', '강민경', '기자', '민주당', '이재명...</td>\n",
       "    </tr>\n",
       "    <tr>\n",
       "      <th>4</th>\n",
       "      <td>대선후보 4인 \"언론과 자주 소통\"…尹·安 \"文정부 언론 낙제점\"</td>\n",
       "      <td>https://news.naver.com/main/read.naver?mode=LP...</td>\n",
       "      <td>\\n\\n\\n\\n\\n李 \"일방적 홍보 아닌 상호 소통\" 尹 \"주1회 기자들과 기탄없이...</td>\n",
       "      <td>['일방', '홍보', '상호', '소통', '기자', '기탄', '언론', '현안...</td>\n",
       "    </tr>\n",
       "    <tr>\n",
       "      <th>...</th>\n",
       "      <td>...</td>\n",
       "      <td>...</td>\n",
       "      <td>...</td>\n",
       "      <td>...</td>\n",
       "    </tr>\n",
       "    <tr>\n",
       "      <th>27727</th>\n",
       "      <td>'광복회 횡령' 논란에…국회 \"경내카페 사용허가 취소 법률자문\"</td>\n",
       "      <td>https://news.naver.com/main/read.naver?mode=LP...</td>\n",
       "      <td>\\n\\n\\n\\n\\n인사말하는 김원웅 광복회장[연합뉴스 자료사진]    (서울=연합뉴...</td>\n",
       "      <td>['인사말', '김원웅', '광복회', '연합뉴스', '자료', '사진', '서울'...</td>\n",
       "    </tr>\n",
       "    <tr>\n",
       "      <th>27728</th>\n",
       "      <td>이재명-김동연 2일 저녁 95분간 양자토론…CBS 주관</td>\n",
       "      <td>https://news.naver.com/main/read.naver?mode=LP...</td>\n",
       "      <td>\\n\\n\\n\\n\\n토론회 주제 경제·정치·외교안보 3개 분야대화하는 이재명-김동연(...</td>\n",
       "      <td>['토론회', '주제', '경제', '정치', '외교', '안보', '분야', '이...</td>\n",
       "    </tr>\n",
       "    <tr>\n",
       "      <th>27729</th>\n",
       "      <td>설 아침 고속도로 원활…\"귀경길 정체 오후 4∼5시 정점\"</td>\n",
       "      <td>https://news.naver.com/main/read.naver?mode=LP...</td>\n",
       "      <td>\\n\\n\\n\\n\\n고속도로[연합뉴스 자료사진](서울=연합뉴스) 송은경 기자 = 설 ...</td>\n",
       "      <td>['고속도로', '연합뉴스', '자료', '사진', '서울', '연합뉴스', '송은...</td>\n",
       "    </tr>\n",
       "    <tr>\n",
       "      <th>27730</th>\n",
       "      <td>\"부스터샷 중증·입원 막는 효과, 87%→5개월 뒤 31%\"</td>\n",
       "      <td>https://news.naver.com/main/read.naver?mode=LP...</td>\n",
       "      <td>\\n\\n\\n\\n\\n코로나19 백신 접종을 준비하는 간호사[AFP 연합뉴스 자료사진....</td>\n",
       "      <td>['코로나', '백신', '접종', '준비', '간호사', '연합뉴스', '자료',...</td>\n",
       "    </tr>\n",
       "    <tr>\n",
       "      <th>27731</th>\n",
       "      <td>\"오미크론에 위중증 곧 다시 증가 전망…병상대란 재발할 수도\"</td>\n",
       "      <td>https://news.naver.com/main/read.naver?mode=LP...</td>\n",
       "      <td>\\n\\n\\n\\n\\n고령층 확진 비중 늘어…\"위중증 정점, 치료제 등이 변수\"'신속항...</td>\n",
       "      <td>['고령', '층', '확진', '비중', '위중', '증', '정점', '치료',...</td>\n",
       "    </tr>\n",
       "  </tbody>\n",
       "</table>\n",
       "<p>27732 rows × 4 columns</p>\n",
       "</div>"
      ],
      "text/plain": [
       "                                      title  \\\n",
       "0         탐색전은 끝났다…거칠어진 130분, 아킬레스건 파고든 李·尹   \n",
       "1          李-尹 난타전…\"경제행정 달인 맞나\" \"검사가 왜 이러나\"   \n",
       "2       노동이사제…安 \"귀족노조\" 尹 \"도덕적 해이 제재\" 沈 \"확대\"   \n",
       "3       4인 후보 '코로나 해결 적임' 부각…\"손실보상 강화\" 한목소리   \n",
       "4      대선후보 4인 \"언론과 자주 소통\"…尹·安 \"文정부 언론 낙제점\"   \n",
       "...                                     ...   \n",
       "27727   '광복회 횡령' 논란에…국회 \"경내카페 사용허가 취소 법률자문\"   \n",
       "27728        이재명-김동연 2일 저녁 95분간 양자토론…CBS 주관   \n",
       "27729      설 아침 고속도로 원활…\"귀경길 정체 오후 4∼5시 정점\"   \n",
       "27730     \"부스터샷 중증·입원 막는 효과, 87%→5개월 뒤 31%\"   \n",
       "27731    \"오미크론에 위중증 곧 다시 증가 전망…병상대란 재발할 수도\"   \n",
       "\n",
       "                                                    link  \\\n",
       "0      https://news.naver.com/main/read.naver?mode=LP...   \n",
       "1      https://news.naver.com/main/read.naver?mode=LP...   \n",
       "2      https://news.naver.com/main/read.naver?mode=LP...   \n",
       "3      https://news.naver.com/main/read.naver?mode=LP...   \n",
       "4      https://news.naver.com/main/read.naver?mode=LP...   \n",
       "...                                                  ...   \n",
       "27727  https://news.naver.com/main/read.naver?mode=LP...   \n",
       "27728  https://news.naver.com/main/read.naver?mode=LP...   \n",
       "27729  https://news.naver.com/main/read.naver?mode=LP...   \n",
       "27730  https://news.naver.com/main/read.naver?mode=LP...   \n",
       "27731  https://news.naver.com/main/read.naver?mode=LP...   \n",
       "\n",
       "                                                contents  \\\n",
       "0      \\n\\n\\n\\n\\n'공수교대' 네거티브 난타전…李·尹, '단일화 파트너' 安에는 '...   \n",
       "1      \\n\\n\\n\\n\\n2차 TV토론…백현동·주가조작 정면충돌에 배우자 이슈까지 등장 安...   \n",
       "2      \\n\\n\\n\\n\\n尹 \"한수원에 노동이사 있었다면 원전 경제성 조작 없었을 것\"安 ...   \n",
       "3      \\n\\n\\n\\n\\n\\t\\n\\t(서울=연합뉴스) 김연정 강민경 기자 = 더불어민주당 ...   \n",
       "4      \\n\\n\\n\\n\\n李 \"일방적 홍보 아닌 상호 소통\" 尹 \"주1회 기자들과 기탄없이...   \n",
       "...                                                  ...   \n",
       "27727  \\n\\n\\n\\n\\n인사말하는 김원웅 광복회장[연합뉴스 자료사진]    (서울=연합뉴...   \n",
       "27728  \\n\\n\\n\\n\\n토론회 주제 경제·정치·외교안보 3개 분야대화하는 이재명-김동연(...   \n",
       "27729  \\n\\n\\n\\n\\n고속도로[연합뉴스 자료사진](서울=연합뉴스) 송은경 기자 = 설 ...   \n",
       "27730  \\n\\n\\n\\n\\n코로나19 백신 접종을 준비하는 간호사[AFP 연합뉴스 자료사진....   \n",
       "27731  \\n\\n\\n\\n\\n고령층 확진 비중 늘어…\"위중증 정점, 치료제 등이 변수\"'신속항...   \n",
       "\n",
       "                                                   Token  \n",
       "0      ['수교', '네거티브', '난타', '일화', '파트너', '손짓', '전방', ...  \n",
       "1      ['차', '토론', '백현동', '주가조작', '정면', '충돌', '배우자', ...  \n",
       "2      ['한수원', '노동', '이사', '원전', '경제성', '조작', '소신', '...  \n",
       "3      ['서울', '연합뉴스', '김연정', '강민경', '기자', '민주당', '이재명...  \n",
       "4      ['일방', '홍보', '상호', '소통', '기자', '기탄', '언론', '현안...  \n",
       "...                                                  ...  \n",
       "27727  ['인사말', '김원웅', '광복회', '연합뉴스', '자료', '사진', '서울'...  \n",
       "27728  ['토론회', '주제', '경제', '정치', '외교', '안보', '분야', '이...  \n",
       "27729  ['고속도로', '연합뉴스', '자료', '사진', '서울', '연합뉴스', '송은...  \n",
       "27730  ['코로나', '백신', '접종', '준비', '간호사', '연합뉴스', '자료',...  \n",
       "27731  ['고령', '층', '확진', '비중', '위중', '증', '정점', '치료',...  \n",
       "\n",
       "[27732 rows x 4 columns]"
      ]
     },
     "execution_count": 97,
     "metadata": {},
     "output_type": "execute_result"
    }
   ],
   "source": [
    "df"
   ]
  },
  {
   "cell_type": "code",
   "execution_count": 98,
   "id": "a93e1129",
   "metadata": {},
   "outputs": [
    {
     "name": "stderr",
     "output_type": "stream",
     "text": [
      "100%|████████████████████████████████████████████████████████████████████████████| 27732/27732 [27:14<00:00, 16.97it/s]"
     ]
    },
    {
     "name": "stdout",
     "output_type": "stream",
     "text": [
      "문서의 수 : 27732\n"
     ]
    },
    {
     "name": "stderr",
     "output_type": "stream",
     "text": [
      "\n"
     ]
    }
   ],
   "source": [
    "okt = Okt()\n",
    "\n",
    "tagged_corpus_list = []\n",
    "\n",
    "for index, row in tqdm(df.iterrows(), total=len(df)):\n",
    "    text = row['contents']\n",
    "    tag = row['title']\n",
    "    tagged_corpus_list.append(TaggedDocument(tags=[tag], words=okt.nouns(text)))\n",
    "\n",
    "print('문서의 수 :', len(tagged_corpus_list))\n"
   ]
  },
  {
   "cell_type": "code",
   "execution_count": 99,
   "id": "0c5ffde6",
   "metadata": {},
   "outputs": [
    {
     "data": {
      "text/plain": [
       "TaggedDocument(words=['수교', '네거티브', '난타', '전', '일화', '파트너', '손짓', '전방', '위로', '물', '대치', '전선', '아슬아슬', '경전', '얼굴', '기도', '토론회', '전', '포즈', '취하', '대선', '후보', '서울', '연합뉴스', '민주당', '이재명', '정의당', '심상정', '국민의당', '안철수', '국민', '힘', '윤석열', '대선', '후보', '왼쪽', '오후', '서울', '중구', '미디어', '센터', '한국', '기자', '협회', '주최', '방송', '개사', '공동', '주관', '대선', '후보', '초청', '토론회', '시작', '앞서', '기념', '촬영', '국회', '사진기', '자단', '서울', '연합뉴스', '상민', '강민경', '이동환', '기자', '여야', '대선', '후보', '한국', '기자', '협회', '주최', '차', '토론', '본격', '창', '방패', '싸움', '지난', '첫', '토론', '탐색', '전', '듯', '시작', '종이', '명의', '후보', '날', '선', '경전', '사안', '별로', '일대일', '대결', '공수', '교대', '물', '각', '난타', '전이', '연출', '민주당', '이재명', '국민', '힘', '윤석열', '후보', '틈', '서로', '아킬레스건', '데', '집중', '상대', '견제', '주력', '틈', '국민의당', '안철수', '정의당', '심상정', '후보', '파상', '공세', '진땀', '빼기', '반면', '안', '후보', '심', '후보', '이재명', '윤석열', '동시', '간간이', '안심', '협공', '연대', '모양새', '토론회', '참석', '이재명', '윤석열', '대선', '후보', '서울', '연합뉴스', '민주당', '이재명', '대선', '후보', '왼쪽', '국민', '힘', '윤석열', '대선', '후보', '오후', '서울', '중구', '미디어', '센터', '한국', '기자', '협회', '주최', '방송', '개사', '공동', '주관', '대선', '후보', '초청', '토론회', '참석', '국회', '사진기', '자단', '박빙', '정면', '충돌', '주가조작', '백현동', '배우자', '이슈', '도', '등장', '이', '후보', '윤', '후보', '청년', '정책', '주제', '토론', '때', '시시각각', '공수', '일대일', '방', '첫', '토론', '주로', '대장동', '이슈', '입', '씨름', '이번', '성남', '후', '원금', '의혹', '무속', '논란', '전방', '위로', '전선', '난타', '전', '지난번', '토론', '표면', '배우자', '이슈', '수면', '위로', '등장', '경전', '한층', '정책', '토론', '시간', '네거티브전', '말', '선거', '코앞', '고도', '양강', '구도', '균형', '추', '허물', '기', '위', '안간힘', '선공', '이', '후보', '이', '후보', '사법고시', '일부', '부활', '공약', '사시', '부활', '반대', '윤', '후보', '청년', '공약', '점', '윤', '후보', '로스쿨', '제도', '보완', '걸', '방어', '뒤', '대장동', '백현동', '의혹', '카드', '이', '후보', '발끈', '윤', '후보', '부인', '김'], tags=['탐색전은 끝났다…거칠어진 130분, 아킬레스건 파고든 李·尹'])"
      ]
     },
     "execution_count": 99,
     "metadata": {},
     "output_type": "execute_result"
    }
   ],
   "source": [
    "tagged_corpus_list[0]"
   ]
  },
  {
   "cell_type": "code",
   "execution_count": 100,
   "id": "3a41906c",
   "metadata": {},
   "outputs": [],
   "source": [
    "from gensim.models import doc2vec"
   ]
  },
  {
   "cell_type": "code",
   "execution_count": 101,
   "id": "13d225c0",
   "metadata": {},
   "outputs": [],
   "source": [
    "model = doc2vec.Doc2Vec(vector_size=300, alpha=0.025, min_alpha=0.025, workers=8, window=8)\n",
    "\n",
    "# Vocabulary 빌드\n",
    "model.build_vocab(tagged_corpus_list)\n",
    "#print(f\"Tag Size: {len(model.docvecs.doctags.keys())}\", end=' / ')\n",
    "\n"
   ]
  },
  {
   "cell_type": "code",
   "execution_count": 102,
   "id": "03fd4663",
   "metadata": {},
   "outputs": [],
   "source": [
    "# Doc2Vec 학습\n",
    "model.train(tagged_corpus_list, total_examples=model.corpus_count, epochs=50)\n",
    "\n",
    "# 모델 저장\n",
    "model.save('news.doc2vec')"
   ]
  },
  {
   "cell_type": "code",
   "execution_count": 103,
   "id": "78091570",
   "metadata": {},
   "outputs": [
    {
     "name": "stdout",
     "output_type": "stream",
     "text": [
      "Watched : 탐색전은 끝났다…거칠어진 130분, 아킬레스건 파고든 李·尹\n",
      "\n",
      "\n",
      "\n",
      "('李-尹 난타전…\"경제행정 달인 맞나\" \"검사가 왜 이러나\"', 0.8385393619537354)\n",
      "('대장동·주가조작에 코로나·사드까지…4인 주자, 전방위 충돌', 0.8267303705215454)\n",
      "('대선후보 4인 \"언론과 자주 소통\"…尹·安 \"文정부 언론 낙제점\"', 0.8137482404708862)\n",
      "('4인 후보 \\'코로나 해결 적임\\' 부각…\"손실보상 강화\" 한목소리', 0.7746110558509827)\n",
      "('노동이사제…安 \"귀족노조\" 尹 \"도덕적 해이 제재\" 沈 \"확대\"', 0.7738745808601379)\n",
      "(\"거리두기 '모임 6인' 3주간 적용…내달 6일까지\", 0.7717560529708862)\n",
      "('[1보] 신규확진 6천603명, 오미크론에 7천명대 턱밑…위중증은 488명', 0.7687421441078186)\n",
      "('중국, 사실상 기준금리 LPR 0.1%p 인하', 0.7548081278800964)\n",
      "('중국 작년 경제성장률 8.1%', 0.754710853099823)\n",
      "('오미크론 확산에 신규확진 1만7천532명…어제와 비슷', 0.7530754208564758)\n"
     ]
    }
   ],
   "source": [
    "title = input(\"Watched : \")\n",
    "print(\"\\n\\n\")\n",
    "similar_doc = model.docvecs.most_similar(title)\n",
    "\n",
    "for news in similar_doc:\n",
    "    print(news)"
   ]
  },
  {
   "cell_type": "code",
   "execution_count": null,
   "id": "dcfdcb65",
   "metadata": {},
   "outputs": [],
   "source": []
  }
 ],
 "metadata": {
  "kernelspec": {
   "display_name": "Python 3 (ipykernel)",
   "language": "python",
   "name": "python3"
  },
  "language_info": {
   "codemirror_mode": {
    "name": "ipython",
    "version": 3
   },
   "file_extension": ".py",
   "mimetype": "text/x-python",
   "name": "python",
   "nbconvert_exporter": "python",
   "pygments_lexer": "ipython3",
   "version": "3.8.12"
  }
 },
 "nbformat": 4,
 "nbformat_minor": 5
}
